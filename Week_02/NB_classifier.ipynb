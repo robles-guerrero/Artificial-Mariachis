{
 "cells": [
  {
   "cell_type": "code",
   "execution_count": 103,
   "id": "f65f5f55",
   "metadata": {},
   "outputs": [],
   "source": [
    "import numpy as np \n",
    "import pandas as pd \n",
    "import matplotlib.pyplot as plt \n",
    "import seaborn as sns\n",
    "from scipy.stats import multivariate_normal as mvn\n"
   ]
  },
  {
   "cell_type": "markdown",
   "id": "42e4206e",
   "metadata": {},
   "source": [
    "# Data loading"
   ]
  },
  {
   "cell_type": "markdown",
   "id": "b8739be8",
   "metadata": {},
   "source": [
    "First we want to import our data ad have a quick glance at it."
   ]
  },
  {
   "cell_type": "code",
   "execution_count": 60,
   "id": "a002241d",
   "metadata": {},
   "outputs": [],
   "source": [
    "data=pd.read_csv('MNIST_train.csv')\n",
    "data=data.drop(data.columns[:2],axis=1)"
   ]
  },
  {
   "cell_type": "code",
   "execution_count": 61,
   "id": "8e0fa105",
   "metadata": {},
   "outputs": [
    {
     "data": {
      "text/html": [
       "<div>\n",
       "<style scoped>\n",
       "    .dataframe tbody tr th:only-of-type {\n",
       "        vertical-align: middle;\n",
       "    }\n",
       "\n",
       "    .dataframe tbody tr th {\n",
       "        vertical-align: top;\n",
       "    }\n",
       "\n",
       "    .dataframe thead th {\n",
       "        text-align: right;\n",
       "    }\n",
       "</style>\n",
       "<table border=\"1\" class=\"dataframe\">\n",
       "  <thead>\n",
       "    <tr style=\"text-align: right;\">\n",
       "      <th></th>\n",
       "      <th>labels</th>\n",
       "      <th>0</th>\n",
       "      <th>1</th>\n",
       "      <th>2</th>\n",
       "      <th>3</th>\n",
       "      <th>4</th>\n",
       "      <th>5</th>\n",
       "      <th>6</th>\n",
       "      <th>7</th>\n",
       "      <th>8</th>\n",
       "      <th>...</th>\n",
       "      <th>774</th>\n",
       "      <th>775</th>\n",
       "      <th>776</th>\n",
       "      <th>777</th>\n",
       "      <th>778</th>\n",
       "      <th>779</th>\n",
       "      <th>780</th>\n",
       "      <th>781</th>\n",
       "      <th>782</th>\n",
       "      <th>783</th>\n",
       "    </tr>\n",
       "  </thead>\n",
       "  <tbody>\n",
       "    <tr>\n",
       "      <th>0</th>\n",
       "      <td>5</td>\n",
       "      <td>0</td>\n",
       "      <td>0</td>\n",
       "      <td>0</td>\n",
       "      <td>0</td>\n",
       "      <td>0</td>\n",
       "      <td>0</td>\n",
       "      <td>0</td>\n",
       "      <td>0</td>\n",
       "      <td>0</td>\n",
       "      <td>...</td>\n",
       "      <td>0</td>\n",
       "      <td>0</td>\n",
       "      <td>0</td>\n",
       "      <td>0</td>\n",
       "      <td>0</td>\n",
       "      <td>0</td>\n",
       "      <td>0</td>\n",
       "      <td>0</td>\n",
       "      <td>0</td>\n",
       "      <td>0</td>\n",
       "    </tr>\n",
       "    <tr>\n",
       "      <th>1</th>\n",
       "      <td>0</td>\n",
       "      <td>0</td>\n",
       "      <td>0</td>\n",
       "      <td>0</td>\n",
       "      <td>0</td>\n",
       "      <td>0</td>\n",
       "      <td>0</td>\n",
       "      <td>0</td>\n",
       "      <td>0</td>\n",
       "      <td>0</td>\n",
       "      <td>...</td>\n",
       "      <td>0</td>\n",
       "      <td>0</td>\n",
       "      <td>0</td>\n",
       "      <td>0</td>\n",
       "      <td>0</td>\n",
       "      <td>0</td>\n",
       "      <td>0</td>\n",
       "      <td>0</td>\n",
       "      <td>0</td>\n",
       "      <td>0</td>\n",
       "    </tr>\n",
       "    <tr>\n",
       "      <th>2</th>\n",
       "      <td>4</td>\n",
       "      <td>0</td>\n",
       "      <td>0</td>\n",
       "      <td>0</td>\n",
       "      <td>0</td>\n",
       "      <td>0</td>\n",
       "      <td>0</td>\n",
       "      <td>0</td>\n",
       "      <td>0</td>\n",
       "      <td>0</td>\n",
       "      <td>...</td>\n",
       "      <td>0</td>\n",
       "      <td>0</td>\n",
       "      <td>0</td>\n",
       "      <td>0</td>\n",
       "      <td>0</td>\n",
       "      <td>0</td>\n",
       "      <td>0</td>\n",
       "      <td>0</td>\n",
       "      <td>0</td>\n",
       "      <td>0</td>\n",
       "    </tr>\n",
       "    <tr>\n",
       "      <th>3</th>\n",
       "      <td>1</td>\n",
       "      <td>0</td>\n",
       "      <td>0</td>\n",
       "      <td>0</td>\n",
       "      <td>0</td>\n",
       "      <td>0</td>\n",
       "      <td>0</td>\n",
       "      <td>0</td>\n",
       "      <td>0</td>\n",
       "      <td>0</td>\n",
       "      <td>...</td>\n",
       "      <td>0</td>\n",
       "      <td>0</td>\n",
       "      <td>0</td>\n",
       "      <td>0</td>\n",
       "      <td>0</td>\n",
       "      <td>0</td>\n",
       "      <td>0</td>\n",
       "      <td>0</td>\n",
       "      <td>0</td>\n",
       "      <td>0</td>\n",
       "    </tr>\n",
       "    <tr>\n",
       "      <th>4</th>\n",
       "      <td>9</td>\n",
       "      <td>0</td>\n",
       "      <td>0</td>\n",
       "      <td>0</td>\n",
       "      <td>0</td>\n",
       "      <td>0</td>\n",
       "      <td>0</td>\n",
       "      <td>0</td>\n",
       "      <td>0</td>\n",
       "      <td>0</td>\n",
       "      <td>...</td>\n",
       "      <td>0</td>\n",
       "      <td>0</td>\n",
       "      <td>0</td>\n",
       "      <td>0</td>\n",
       "      <td>0</td>\n",
       "      <td>0</td>\n",
       "      <td>0</td>\n",
       "      <td>0</td>\n",
       "      <td>0</td>\n",
       "      <td>0</td>\n",
       "    </tr>\n",
       "  </tbody>\n",
       "</table>\n",
       "<p>5 rows × 785 columns</p>\n",
       "</div>"
      ],
      "text/plain": [
       "   labels  0  1  2  3  4  5  6  7  8  ...  774  775  776  777  778  779  780  \\\n",
       "0       5  0  0  0  0  0  0  0  0  0  ...    0    0    0    0    0    0    0   \n",
       "1       0  0  0  0  0  0  0  0  0  0  ...    0    0    0    0    0    0    0   \n",
       "2       4  0  0  0  0  0  0  0  0  0  ...    0    0    0    0    0    0    0   \n",
       "3       1  0  0  0  0  0  0  0  0  0  ...    0    0    0    0    0    0    0   \n",
       "4       9  0  0  0  0  0  0  0  0  0  ...    0    0    0    0    0    0    0   \n",
       "\n",
       "   781  782  783  \n",
       "0    0    0    0  \n",
       "1    0    0    0  \n",
       "2    0    0    0  \n",
       "3    0    0    0  \n",
       "4    0    0    0  \n",
       "\n",
       "[5 rows x 785 columns]"
      ]
     },
     "execution_count": 61,
     "metadata": {},
     "output_type": "execute_result"
    }
   ],
   "source": [
    "data.head()"
   ]
  },
  {
   "cell_type": "markdown",
   "id": "09010ce7",
   "metadata": {},
   "source": [
    "Ok, now we now we got some labels and 784 labels which represent a 28*28 matrix"
   ]
  },
  {
   "cell_type": "code",
   "execution_count": 62,
   "id": "2ed3370e",
   "metadata": {},
   "outputs": [],
   "source": [
    "#data[data.columns[500:510]].describe()"
   ]
  },
  {
   "cell_type": "markdown",
   "id": "0561dcda",
   "metadata": {},
   "source": [
    "Now we're going to extract the data and separeate it form the labels so that we can visualize the digits in each image.\n",
    "For this we'll create a simple function."
   ]
  },
  {
   "cell_type": "code",
   "execution_count": 64,
   "id": "043c2368",
   "metadata": {},
   "outputs": [],
   "source": [
    "#separating labels to 'y' and data to 'X'\n",
    "X=data.to_numpy() # df -> numpy array\n",
    "y=X[:,0] # labels -> y\n",
    "X=X[:,1:] # 28*28 matrix -> X"
   ]
  },
  {
   "cell_type": "code",
   "execution_count": 65,
   "id": "614cbf49",
   "metadata": {},
   "outputs": [
    {
     "data": {
      "text/plain": [
       "array([[0, 0, 0, ..., 0, 0, 0],\n",
       "       [0, 0, 0, ..., 0, 0, 0],\n",
       "       [0, 0, 0, ..., 0, 0, 0],\n",
       "       ...,\n",
       "       [0, 0, 0, ..., 0, 0, 0],\n",
       "       [0, 0, 0, ..., 0, 0, 0],\n",
       "       [0, 0, 0, ..., 0, 0, 0]], dtype=int64)"
      ]
     },
     "execution_count": 65,
     "metadata": {},
     "output_type": "execute_result"
    }
   ],
   "source": [
    "X"
   ]
  },
  {
   "cell_type": "code",
   "execution_count": 66,
   "id": "b920bf6f",
   "metadata": {},
   "outputs": [],
   "source": [
    "# function to transform 1D array into a 28*28 array\n",
    "def show_digit(x):\n",
    "    show=[]\n",
    "    for i in range(28):\n",
    "        show.append(x[i*28:(i+1)*28])\n",
    "    \n",
    "    return np.array(show)"
   ]
  },
  {
   "cell_type": "markdown",
   "id": "d10591a4",
   "metadata": {},
   "source": [
    "# Data visualization "
   ]
  },
  {
   "cell_type": "markdown",
   "id": "01d0df77",
   "metadata": {},
   "source": [
    "Let's look at one number from the data set"
   ]
  },
  {
   "cell_type": "markdown",
   "id": "a0b41eff",
   "metadata": {},
   "source": []
  },
  {
   "cell_type": "code",
   "execution_count": 286,
   "id": "9ab22a56",
   "metadata": {},
   "outputs": [
    {
     "data": {
      "text/plain": [
       "<function matplotlib.pyplot.show(close=None, block=None)>"
      ]
     },
     "execution_count": 286,
     "metadata": {},
     "output_type": "execute_result"
    },
    {
     "data": {
      "image/png": "[encoded data removed]",
      "text/plain": [
       "<Figure size 432x288 with 1 Axes>"
      ]
     },
     "metadata": {
      "needs_background": "light"
     },
     "output_type": "display_data"
    }
   ],
   "source": [
    "plt.imshow(image,cmap='gray',vmin=0)\n",
    "plt.show"
   ]
  },
  {
   "cell_type": "code",
   "execution_count": 285,
   "id": "239a69f2",
   "metadata": {},
   "outputs": [
    {
     "data": {
      "text/plain": [
       "(28, 28)"
      ]
     },
     "execution_count": 285,
     "metadata": {},
     "output_type": "execute_result"
    }
   ],
   "source": [
    "image=show_digit(X[1])\n",
    "image.shape"
   ]
  },
  {
   "cell_type": "code",
   "execution_count": 69,
   "id": "fb5109c3",
   "metadata": {},
   "outputs": [],
   "source": [
    "groupby=data.groupby('labels') # group data by labels "
   ]
  },
  {
   "cell_type": "markdown",
   "id": "5fd8dc05",
   "metadata": {},
   "source": [
    "Now lets look at the average valu for each number , we do so by averaging the value of each pixel from each image"
   ]
  },
  {
   "cell_type": "code",
   "execution_count": 70,
   "id": "67f18f3a",
   "metadata": {},
   "outputs": [],
   "source": [
    "digit_means={}\n",
    "#len_=len(data)\n",
    "for digit,group in enumerate(groupby):\n",
    "    len_=len(group)\n",
    "    group=group[1][data.columns[1:]].to_numpy()\n",
    "    acumulado=np.zeros([28,28])\n",
    "    for element in group:\n",
    "        #print(element)\n",
    "#         x=element.to_numpy()\n",
    "#         x=x[1:]\n",
    "        acumulado=acumulado+show_digit(element)\n",
    "    \n",
    "    digit_means[digit]=acumulado//len_\n",
    "    \n",
    "    \n",
    "        "
   ]
  },
  {
   "cell_type": "code",
   "execution_count": 71,
   "id": "20aeec73",
   "metadata": {},
   "outputs": [
    {
     "data": {
      "text/plain": [
       "dict_keys([0, 1, 2, 3, 4, 5, 6, 7, 8, 9])"
      ]
     },
     "execution_count": 71,
     "metadata": {},
     "output_type": "execute_result"
    }
   ],
   "source": [
    "digit_means.keys()"
   ]
  },
  {
   "cell_type": "markdown",
   "id": "b31ce7b8",
   "metadata": {},
   "source": [
    "Here are the average values for each number"
   ]
  },
  {
   "cell_type": "code",
   "execution_count": 290,
   "id": "472a2dbc",
   "metadata": {},
   "outputs": [
    {
     "data": {
      "image/png": "[encoded data removed]",
      "text/plain": [
       "<Figure size 432x288 with 1 Axes>"
      ]
     },
     "metadata": {
      "needs_background": "light"
     },
     "output_type": "display_data"
    },
    {
     "data": {
      "image/png": "[encoded data removed]",
      "text/plain": [
       "<Figure size 432x288 with 1 Axes>"
      ]
     },
     "metadata": {
      "needs_background": "light"
     },
     "output_type": "display_data"
    },
    {
     "data": {
      "image/png": "[encoded data removed]",
      "text/plain": [
       "<Figure size 432x288 with 1 Axes>"
      ]
     },
     "metadata": {
      "needs_background": "light"
     },
     "output_type": "display_data"
    },
    {
     "data": {
      "image/png": "[encoded data removed]",
      "text/plain": [
       "<Figure size 432x288 with 1 Axes>"
      ]
     },
     "metadata": {
      "needs_background": "light"
     },
     "output_type": "display_data"
    },
    {
     "data": {
      "image/png": "[encoded data removed]",
      "text/plain": [
       "<Figure size 432x288 with 1 Axes>"
      ]
     },
     "metadata": {
      "needs_background": "light"
     },
     "output_type": "display_data"
    },
    {
     "data": {
      "image/png": "[encoded data removed]",
      "text/plain": [
       "<Figure size 432x288 with 1 Axes>"
      ]
     },
     "metadata": {
      "needs_background": "light"
     },
     "output_type": "display_data"
    },
    {
     "data": {
      "image/png": "[encoded data removed]",
      "text/plain": [
       "<Figure size 432x288 with 1 Axes>"
      ]
     },
     "metadata": {
      "needs_background": "light"
     },
     "output_type": "display_data"
    },
    {
     "data": {
      "image/png": "[encoded data removed]",
      "text/plain": [
       "<Figure size 432x288 with 1 Axes>"
      ]
     },
     "metadata": {
      "needs_background": "light"
     },
     "output_type": "display_data"
    },
    {
     "data": {
      "image/png": "[encoded data removed]",
      "text/plain": [
       "<Figure size 432x288 with 1 Axes>"
      ]
     },
     "metadata": {
      "needs_background": "light"
     },
     "output_type": "display_data"
    },
    {
     "data": {
      "image/png": "[encoded data removed]",
      "text/plain": [
       "<Figure size 432x288 with 1 Axes>"
      ]
     },
     "metadata": {
      "needs_background": "light"
     },
     "output_type": "display_data"
    }
   ],
   "source": [
    "for key,value in digit_means.items():\n",
    "    plt.imshow(value)\n",
    "  \n",
    "    #plt.tight_layout()\n",
    "    plt.savefig(f'image_{key}.png')\n",
    "    plt.show()"
   ]
  },
  {
   "attachments": {
    "image.png": {
     "image/png": "[encoded data removed]"
    }
   },
   "cell_type": "markdown",
   "id": "4480f230",
   "metadata": {},
   "source": [
    "Let's define a quick correlation mesure for images, the function was obtained from matlab:\n",
    "\n",
    "![image.png](attachment:image.png)\n",
    "\n",
    "https://www.mathworks.com/help/images/ref/corr2.html"
   ]
  },
  {
   "cell_type": "code",
   "execution_count": 73,
   "id": "9d467b39",
   "metadata": {},
   "outputs": [],
   "source": [
    "def mean2(x):\n",
    "    y = np.sum(x) / np.size(x);\n",
    "    return y\n",
    "\n",
    "def corr2(a,b):\n",
    "    a = a - mean2(a)\n",
    "    b = b - mean2(b)\n",
    "\n",
    "    r = (a*b).sum() / np.sqrt((a*a).sum() * (b*b).sum());\n",
    "    return r"
   ]
  },
  {
   "cell_type": "code",
   "execution_count": 74,
   "id": "addfd985",
   "metadata": {},
   "outputs": [],
   "source": [
    "corr_matrix=np.zeros([10,10])\n",
    "for digit1,n in digit_means.items():\n",
    "    for digit2,m in digit_means.items():\n",
    "        corr_matrix[digit1,digit2] = corr2(n,m)\n",
    "        \n"
   ]
  },
  {
   "cell_type": "code",
   "execution_count": 75,
   "id": "07036ffb",
   "metadata": {},
   "outputs": [
    {
     "data": {
      "text/plain": [
       "array([[1.        , 0.29416777, 0.60498417, 0.62111482, 0.51053614,\n",
       "        0.75970612, 0.61157043, 0.50392946, 0.62455758, 0.53438903],\n",
       "       [0.29416777, 1.        , 0.628649  , 0.61701314, 0.42523022,\n",
       "        0.56794998, 0.51039053, 0.48532333, 0.71831401, 0.5276693 ],\n",
       "       [0.60498417, 0.628649  , 1.        , 0.71209156, 0.64407363,\n",
       "        0.65365465, 0.7696275 , 0.54936678, 0.79026153, 0.62705974],\n",
       "       [0.62111482, 0.61701314, 0.71209156, 1.        , 0.56793433,\n",
       "        0.84889855, 0.5818509 , 0.58014599, 0.81796767, 0.65665132],\n",
       "       [0.51053614, 0.42523022, 0.64407363, 0.56793433, 1.        ,\n",
       "        0.6835231 , 0.7155592 , 0.72010517, 0.73014764, 0.89789089],\n",
       "       [0.75970612, 0.56794998, 0.65365465, 0.84889855, 0.6835231 ,\n",
       "        1.        , 0.6892147 , 0.63476314, 0.86881646, 0.75256789],\n",
       "       [0.61157043, 0.51039053, 0.7696275 , 0.5818509 , 0.7155592 ,\n",
       "        0.6892147 , 1.        , 0.5059868 , 0.69808089, 0.66606776],\n",
       "       [0.50392946, 0.48532333, 0.54936678, 0.58014599, 0.72010517,\n",
       "        0.63476314, 0.5059868 , 1.        , 0.67513658, 0.85413716],\n",
       "       [0.62455758, 0.71831401, 0.79026153, 0.81796767, 0.73014764,\n",
       "        0.86881646, 0.69808089, 0.67513658, 1.        , 0.79850143],\n",
       "       [0.53438903, 0.5276693 , 0.62705974, 0.65665132, 0.89789089,\n",
       "        0.75256789, 0.66606776, 0.85413716, 0.79850143, 1.        ]])"
      ]
     },
     "execution_count": 75,
     "metadata": {},
     "output_type": "execute_result"
    }
   ],
   "source": [
    "corr_matrix"
   ]
  },
  {
   "cell_type": "code",
   "execution_count": 294,
   "id": "7bd7b42a",
   "metadata": {},
   "outputs": [
    {
     "name": "stdout",
     "output_type": "stream",
     "text": [
      "Correlation matrix among digit images calculated means\n"
     ]
    },
    {
     "data": {
      "image/png": "[encoded data removed]",
      "text/plain": [
       "<Figure size 720x360 with 2 Axes>"
      ]
     },
     "metadata": {
      "needs_background": "light"
     },
     "output_type": "display_data"
    }
   ],
   "source": [
    "plt.figure(figsize=(10,5))\n",
    "c= corr_matrix\n",
    "print('Correlation matrix among digit images calculated means')\n",
    "sns.heatmap(c,cmap='Blues',annot=True,)\n",
    "plt.savefig('corr2_digits')"
   ]
  },
  {
   "cell_type": "markdown",
   "id": "c8cea957",
   "metadata": {},
   "source": [
    "# Data standarization and Train-Test Split"
   ]
  },
  {
   "cell_type": "code",
   "execution_count": 168,
   "id": "033613c8",
   "metadata": {},
   "outputs": [],
   "source": [
    "# test_train split\n",
    "\n",
    "# take random sample of 20% from data set \n",
    "test=data.sample(frac=.05)\n",
    "\n",
    "# take remaining data from data set \n",
    "train=data.drop(test.index)\n",
    "# shuffle that sample just in case by taking a random sample of 100%\n",
    "train=train.sample(frac=1)\n"
   ]
  },
  {
   "cell_type": "code",
   "execution_count": 169,
   "id": "e7831123",
   "metadata": {},
   "outputs": [
    {
     "data": {
      "text/html": [
       "<div>\n",
       "<style scoped>\n",
       "    .dataframe tbody tr th:only-of-type {\n",
       "        vertical-align: middle;\n",
       "    }\n",
       "\n",
       "    .dataframe tbody tr th {\n",
       "        vertical-align: top;\n",
       "    }\n",
       "\n",
       "    .dataframe thead th {\n",
       "        text-align: right;\n",
       "    }\n",
       "</style>\n",
       "<table border=\"1\" class=\"dataframe\">\n",
       "  <thead>\n",
       "    <tr style=\"text-align: right;\">\n",
       "      <th></th>\n",
       "      <th>labels</th>\n",
       "      <th>0</th>\n",
       "      <th>1</th>\n",
       "      <th>2</th>\n",
       "      <th>3</th>\n",
       "      <th>4</th>\n",
       "      <th>5</th>\n",
       "      <th>6</th>\n",
       "      <th>7</th>\n",
       "      <th>8</th>\n",
       "      <th>...</th>\n",
       "      <th>774</th>\n",
       "      <th>775</th>\n",
       "      <th>776</th>\n",
       "      <th>777</th>\n",
       "      <th>778</th>\n",
       "      <th>779</th>\n",
       "      <th>780</th>\n",
       "      <th>781</th>\n",
       "      <th>782</th>\n",
       "      <th>783</th>\n",
       "    </tr>\n",
       "  </thead>\n",
       "  <tbody>\n",
       "    <tr>\n",
       "      <th>17014</th>\n",
       "      <td>6</td>\n",
       "      <td>0</td>\n",
       "      <td>0</td>\n",
       "      <td>0</td>\n",
       "      <td>0</td>\n",
       "      <td>0</td>\n",
       "      <td>0</td>\n",
       "      <td>0</td>\n",
       "      <td>0</td>\n",
       "      <td>0</td>\n",
       "      <td>...</td>\n",
       "      <td>0</td>\n",
       "      <td>0</td>\n",
       "      <td>0</td>\n",
       "      <td>0</td>\n",
       "      <td>0</td>\n",
       "      <td>0</td>\n",
       "      <td>0</td>\n",
       "      <td>0</td>\n",
       "      <td>0</td>\n",
       "      <td>0</td>\n",
       "    </tr>\n",
       "    <tr>\n",
       "      <th>5347</th>\n",
       "      <td>7</td>\n",
       "      <td>0</td>\n",
       "      <td>0</td>\n",
       "      <td>0</td>\n",
       "      <td>0</td>\n",
       "      <td>0</td>\n",
       "      <td>0</td>\n",
       "      <td>0</td>\n",
       "      <td>0</td>\n",
       "      <td>0</td>\n",
       "      <td>...</td>\n",
       "      <td>0</td>\n",
       "      <td>0</td>\n",
       "      <td>0</td>\n",
       "      <td>0</td>\n",
       "      <td>0</td>\n",
       "      <td>0</td>\n",
       "      <td>0</td>\n",
       "      <td>0</td>\n",
       "      <td>0</td>\n",
       "      <td>0</td>\n",
       "    </tr>\n",
       "    <tr>\n",
       "      <th>54657</th>\n",
       "      <td>4</td>\n",
       "      <td>0</td>\n",
       "      <td>0</td>\n",
       "      <td>0</td>\n",
       "      <td>0</td>\n",
       "      <td>0</td>\n",
       "      <td>0</td>\n",
       "      <td>0</td>\n",
       "      <td>0</td>\n",
       "      <td>0</td>\n",
       "      <td>...</td>\n",
       "      <td>0</td>\n",
       "      <td>0</td>\n",
       "      <td>0</td>\n",
       "      <td>0</td>\n",
       "      <td>0</td>\n",
       "      <td>0</td>\n",
       "      <td>0</td>\n",
       "      <td>0</td>\n",
       "      <td>0</td>\n",
       "      <td>0</td>\n",
       "    </tr>\n",
       "    <tr>\n",
       "      <th>20074</th>\n",
       "      <td>4</td>\n",
       "      <td>0</td>\n",
       "      <td>0</td>\n",
       "      <td>0</td>\n",
       "      <td>0</td>\n",
       "      <td>0</td>\n",
       "      <td>0</td>\n",
       "      <td>0</td>\n",
       "      <td>0</td>\n",
       "      <td>0</td>\n",
       "      <td>...</td>\n",
       "      <td>0</td>\n",
       "      <td>0</td>\n",
       "      <td>0</td>\n",
       "      <td>0</td>\n",
       "      <td>0</td>\n",
       "      <td>0</td>\n",
       "      <td>0</td>\n",
       "      <td>0</td>\n",
       "      <td>0</td>\n",
       "      <td>0</td>\n",
       "    </tr>\n",
       "    <tr>\n",
       "      <th>37701</th>\n",
       "      <td>8</td>\n",
       "      <td>0</td>\n",
       "      <td>0</td>\n",
       "      <td>0</td>\n",
       "      <td>0</td>\n",
       "      <td>0</td>\n",
       "      <td>0</td>\n",
       "      <td>0</td>\n",
       "      <td>0</td>\n",
       "      <td>0</td>\n",
       "      <td>...</td>\n",
       "      <td>0</td>\n",
       "      <td>0</td>\n",
       "      <td>0</td>\n",
       "      <td>0</td>\n",
       "      <td>0</td>\n",
       "      <td>0</td>\n",
       "      <td>0</td>\n",
       "      <td>0</td>\n",
       "      <td>0</td>\n",
       "      <td>0</td>\n",
       "    </tr>\n",
       "  </tbody>\n",
       "</table>\n",
       "<p>5 rows × 785 columns</p>\n",
       "</div>"
      ],
      "text/plain": [
       "       labels  0  1  2  3  4  5  6  7  8  ...  774  775  776  777  778  779  \\\n",
       "17014       6  0  0  0  0  0  0  0  0  0  ...    0    0    0    0    0    0   \n",
       "5347        7  0  0  0  0  0  0  0  0  0  ...    0    0    0    0    0    0   \n",
       "54657       4  0  0  0  0  0  0  0  0  0  ...    0    0    0    0    0    0   \n",
       "20074       4  0  0  0  0  0  0  0  0  0  ...    0    0    0    0    0    0   \n",
       "37701       8  0  0  0  0  0  0  0  0  0  ...    0    0    0    0    0    0   \n",
       "\n",
       "       780  781  782  783  \n",
       "17014    0    0    0    0  \n",
       "5347     0    0    0    0  \n",
       "54657    0    0    0    0  \n",
       "20074    0    0    0    0  \n",
       "37701    0    0    0    0  \n",
       "\n",
       "[5 rows x 785 columns]"
      ]
     },
     "execution_count": 169,
     "metadata": {},
     "output_type": "execute_result"
    }
   ],
   "source": [
    "test.head()"
   ]
  },
  {
   "cell_type": "code",
   "execution_count": 170,
   "id": "edb806e8",
   "metadata": {},
   "outputs": [
    {
     "data": {
      "text/html": [
       "<div>\n",
       "<style scoped>\n",
       "    .dataframe tbody tr th:only-of-type {\n",
       "        vertical-align: middle;\n",
       "    }\n",
       "\n",
       "    .dataframe tbody tr th {\n",
       "        vertical-align: top;\n",
       "    }\n",
       "\n",
       "    .dataframe thead th {\n",
       "        text-align: right;\n",
       "    }\n",
       "</style>\n",
       "<table border=\"1\" class=\"dataframe\">\n",
       "  <thead>\n",
       "    <tr style=\"text-align: right;\">\n",
       "      <th></th>\n",
       "      <th>labels</th>\n",
       "      <th>0</th>\n",
       "      <th>1</th>\n",
       "      <th>2</th>\n",
       "      <th>3</th>\n",
       "      <th>4</th>\n",
       "      <th>5</th>\n",
       "      <th>6</th>\n",
       "      <th>7</th>\n",
       "      <th>8</th>\n",
       "      <th>...</th>\n",
       "      <th>774</th>\n",
       "      <th>775</th>\n",
       "      <th>776</th>\n",
       "      <th>777</th>\n",
       "      <th>778</th>\n",
       "      <th>779</th>\n",
       "      <th>780</th>\n",
       "      <th>781</th>\n",
       "      <th>782</th>\n",
       "      <th>783</th>\n",
       "    </tr>\n",
       "  </thead>\n",
       "  <tbody>\n",
       "    <tr>\n",
       "      <th>42610</th>\n",
       "      <td>0</td>\n",
       "      <td>0</td>\n",
       "      <td>0</td>\n",
       "      <td>0</td>\n",
       "      <td>0</td>\n",
       "      <td>0</td>\n",
       "      <td>0</td>\n",
       "      <td>0</td>\n",
       "      <td>0</td>\n",
       "      <td>0</td>\n",
       "      <td>...</td>\n",
       "      <td>0</td>\n",
       "      <td>0</td>\n",
       "      <td>0</td>\n",
       "      <td>0</td>\n",
       "      <td>0</td>\n",
       "      <td>0</td>\n",
       "      <td>0</td>\n",
       "      <td>0</td>\n",
       "      <td>0</td>\n",
       "      <td>0</td>\n",
       "    </tr>\n",
       "    <tr>\n",
       "      <th>34566</th>\n",
       "      <td>1</td>\n",
       "      <td>0</td>\n",
       "      <td>0</td>\n",
       "      <td>0</td>\n",
       "      <td>0</td>\n",
       "      <td>0</td>\n",
       "      <td>0</td>\n",
       "      <td>0</td>\n",
       "      <td>0</td>\n",
       "      <td>0</td>\n",
       "      <td>...</td>\n",
       "      <td>0</td>\n",
       "      <td>0</td>\n",
       "      <td>0</td>\n",
       "      <td>0</td>\n",
       "      <td>0</td>\n",
       "      <td>0</td>\n",
       "      <td>0</td>\n",
       "      <td>0</td>\n",
       "      <td>0</td>\n",
       "      <td>0</td>\n",
       "    </tr>\n",
       "    <tr>\n",
       "      <th>4456</th>\n",
       "      <td>9</td>\n",
       "      <td>0</td>\n",
       "      <td>0</td>\n",
       "      <td>0</td>\n",
       "      <td>0</td>\n",
       "      <td>0</td>\n",
       "      <td>0</td>\n",
       "      <td>0</td>\n",
       "      <td>0</td>\n",
       "      <td>0</td>\n",
       "      <td>...</td>\n",
       "      <td>0</td>\n",
       "      <td>0</td>\n",
       "      <td>0</td>\n",
       "      <td>0</td>\n",
       "      <td>0</td>\n",
       "      <td>0</td>\n",
       "      <td>0</td>\n",
       "      <td>0</td>\n",
       "      <td>0</td>\n",
       "      <td>0</td>\n",
       "    </tr>\n",
       "    <tr>\n",
       "      <th>13786</th>\n",
       "      <td>7</td>\n",
       "      <td>0</td>\n",
       "      <td>0</td>\n",
       "      <td>0</td>\n",
       "      <td>0</td>\n",
       "      <td>0</td>\n",
       "      <td>0</td>\n",
       "      <td>0</td>\n",
       "      <td>0</td>\n",
       "      <td>0</td>\n",
       "      <td>...</td>\n",
       "      <td>0</td>\n",
       "      <td>0</td>\n",
       "      <td>0</td>\n",
       "      <td>0</td>\n",
       "      <td>0</td>\n",
       "      <td>0</td>\n",
       "      <td>0</td>\n",
       "      <td>0</td>\n",
       "      <td>0</td>\n",
       "      <td>0</td>\n",
       "    </tr>\n",
       "    <tr>\n",
       "      <th>24226</th>\n",
       "      <td>2</td>\n",
       "      <td>0</td>\n",
       "      <td>0</td>\n",
       "      <td>0</td>\n",
       "      <td>0</td>\n",
       "      <td>0</td>\n",
       "      <td>0</td>\n",
       "      <td>0</td>\n",
       "      <td>0</td>\n",
       "      <td>0</td>\n",
       "      <td>...</td>\n",
       "      <td>0</td>\n",
       "      <td>0</td>\n",
       "      <td>0</td>\n",
       "      <td>0</td>\n",
       "      <td>0</td>\n",
       "      <td>0</td>\n",
       "      <td>0</td>\n",
       "      <td>0</td>\n",
       "      <td>0</td>\n",
       "      <td>0</td>\n",
       "    </tr>\n",
       "  </tbody>\n",
       "</table>\n",
       "<p>5 rows × 785 columns</p>\n",
       "</div>"
      ],
      "text/plain": [
       "       labels  0  1  2  3  4  5  6  7  8  ...  774  775  776  777  778  779  \\\n",
       "42610       0  0  0  0  0  0  0  0  0  0  ...    0    0    0    0    0    0   \n",
       "34566       1  0  0  0  0  0  0  0  0  0  ...    0    0    0    0    0    0   \n",
       "4456        9  0  0  0  0  0  0  0  0  0  ...    0    0    0    0    0    0   \n",
       "13786       7  0  0  0  0  0  0  0  0  0  ...    0    0    0    0    0    0   \n",
       "24226       2  0  0  0  0  0  0  0  0  0  ...    0    0    0    0    0    0   \n",
       "\n",
       "       780  781  782  783  \n",
       "42610    0    0    0    0  \n",
       "34566    0    0    0    0  \n",
       "4456     0    0    0    0  \n",
       "13786    0    0    0    0  \n",
       "24226    0    0    0    0  \n",
       "\n",
       "[5 rows x 785 columns]"
      ]
     },
     "execution_count": 170,
     "metadata": {},
     "output_type": "execute_result"
    }
   ],
   "source": [
    "train.head()"
   ]
  },
  {
   "attachments": {
    "image-2.png": {
     "image/png": "[encoded data removed]"
    }
   },
   "cell_type": "markdown",
   "id": "aaece01a",
   "metadata": {},
   "source": [
    "We'll use data min_max stadarization in order to normalize our data before feeding it to our predictor\n",
    "![image-2.png](attachment:image-2.png)\n",
    "\n",
    "Since our min is 0 , basically we just have to divide over 255.\n",
    "Let's get X and y for training and testing"
   ]
  },
  {
   "cell_type": "code",
   "execution_count": 171,
   "id": "32a4afab",
   "metadata": {},
   "outputs": [],
   "source": [
    "# Training set\n",
    "\n",
    "#separating labels to 'y' and data to 'X'\n",
    "X=train.to_numpy() # df -> numpy array\n",
    "y_train=X[:,0] # labels -> y\n",
    "X_train=X[:,1:] # 28*28 matrix -> X\n",
    "\n",
    "# min_max standarization\n",
    "X_train=X/255"
   ]
  },
  {
   "cell_type": "code",
   "execution_count": 172,
   "id": "e7e9fbf3",
   "metadata": {},
   "outputs": [],
   "source": [
    "#Testing/Validating set\n",
    "\n",
    "#separating labels to 'y' and data to 'X'\n",
    "X=test.to_numpy() # df -> numpy array\n",
    "y_test=X[:,0] # labels -> y\n",
    "X_test=X[:,1:] # 28*28 matrix -> X\n",
    "\n",
    "# min_max standarization\n",
    "X_test=X/255"
   ]
  },
  {
   "cell_type": "code",
   "execution_count": 173,
   "id": "bcd20f1e",
   "metadata": {},
   "outputs": [
    {
     "data": {
      "text/plain": [
       "array([6, 7, 4, ..., 5, 6, 3], dtype=int64)"
      ]
     },
     "execution_count": 173,
     "metadata": {},
     "output_type": "execute_result"
    }
   ],
   "source": [
    "y_test"
   ]
  },
  {
   "cell_type": "markdown",
   "id": "3fab07e7",
   "metadata": {},
   "source": [
    "# Model Training"
   ]
  },
  {
   "cell_type": "code",
   "execution_count": null,
   "id": "690bd939",
   "metadata": {},
   "outputs": [],
   "source": []
  },
  {
   "cell_type": "markdown",
   "id": "7f2e0a65",
   "metadata": {},
   "source": [
    "We'll use a Gaussian Bayes classificator model, let's define our model"
   ]
  },
  {
   "cell_type": "code",
   "execution_count": 204,
   "id": "75b9188d",
   "metadata": {},
   "outputs": [],
   "source": [
    "class GaussBayes():\n",
    "    def fit(self,X,y,epsilon=1e-2):\n",
    "        self.likelihoods=dict()\n",
    "        self.priors = dict()\n",
    "        self.K=set(y.astype(int))\n",
    "        \n",
    "        for k in self.K:\n",
    "            \n",
    "            X_k = X[y==k,:]\n",
    "            N_k, D = X_k.shape\n",
    "            mu_k = X_k.mean(axis=0)\n",
    "            \n",
    "            self.likelihoods[k]= {'mean': X_k.mean(axis=0),'cov':(1/(N_k-1)*np.matmul((X_k-mu_k).T,X_k-mu_k)+epsilon*np.identity(D))}\n",
    "            self.priors[k] = len(X_k)/len(X)\n",
    "    \n",
    "    def predict(self,X):\n",
    "        \n",
    "        N,D = X.shape\n",
    "        P_hat = np.zeros((N,len(self.K)))\n",
    "        \n",
    "        for k,l in self.likelihoods.items():\n",
    "            P_hat[:,k]= mvn.logpdf(X,l['mean'],l['cov'])+np.log(self.priors[k])\n",
    "            \n",
    "        return P_hat.argmax(axis=1)"
   ]
  },
  {
   "cell_type": "markdown",
   "id": "d58b2fa2",
   "metadata": {},
   "source": [
    "Now we train our model"
   ]
  },
  {
   "cell_type": "code",
   "execution_count": 205,
   "id": "12016af7",
   "metadata": {},
   "outputs": [],
   "source": [
    "GBC=GaussBayes()\n",
    "# training\n",
    "GBC.fit(X_train,y_train)"
   ]
  },
  {
   "cell_type": "code",
   "execution_count": 206,
   "id": "196f72eb",
   "metadata": {},
   "outputs": [],
   "source": [
    "y_hat=GBC.predict(X_test)"
   ]
  },
  {
   "cell_type": "code",
   "execution_count": 207,
   "id": "6877303a",
   "metadata": {},
   "outputs": [],
   "source": [
    "def accuracy(y,y_hat):\n",
    "    return np.mean(y==y_hat)"
   ]
  },
  {
   "cell_type": "code",
   "execution_count": 208,
   "id": "214c727f",
   "metadata": {},
   "outputs": [
    {
     "data": {
      "text/plain": [
       "0.9496666666666667"
      ]
     },
     "execution_count": 208,
     "metadata": {},
     "output_type": "execute_result"
    }
   ],
   "source": [
    "accuracy(y_test,y_hat)"
   ]
  },
  {
   "cell_type": "code",
   "execution_count": 209,
   "id": "8be4c6b1",
   "metadata": {},
   "outputs": [
    {
     "data": {
      "text/plain": [
       "3000"
      ]
     },
     "execution_count": 209,
     "metadata": {},
     "output_type": "execute_result"
    }
   ],
   "source": [
    "len(y_test)"
   ]
  },
  {
   "cell_type": "code",
   "execution_count": 210,
   "id": "bdf8c195",
   "metadata": {},
   "outputs": [
    {
     "data": {
      "text/plain": [
       "array([6, 7, 4, ..., 5, 6, 3], dtype=int64)"
      ]
     },
     "execution_count": 210,
     "metadata": {},
     "output_type": "execute_result"
    }
   ],
   "source": [
    "y_test"
   ]
  },
  {
   "cell_type": "code",
   "execution_count": 211,
   "id": "6938a65e",
   "metadata": {},
   "outputs": [
    {
     "data": {
      "text/plain": [
       "array([6, 7, 4, ..., 9, 6, 3], dtype=int64)"
      ]
     },
     "execution_count": 211,
     "metadata": {},
     "output_type": "execute_result"
    }
   ],
   "source": [
    "y_hat"
   ]
  },
  {
   "cell_type": "code",
   "execution_count": 212,
   "id": "fb9b11ad",
   "metadata": {},
   "outputs": [
    {
     "data": {
      "text/plain": [
       "<function matplotlib.pyplot.show(close=None, block=None)>"
      ]
     },
     "execution_count": 212,
     "metadata": {},
     "output_type": "execute_result"
    },
    {
     "data": {
      "image/png": "[encoded data removed]",
      "text/plain": [
       "<Figure size 432x288 with 1 Axes>"
      ]
     },
     "metadata": {
      "needs_background": "light"
     },
     "output_type": "display_data"
    }
   ],
   "source": [
    "image=show_digit(X_test[-3])\n",
    "plt.imshow(image)\n",
    "plt.show"
   ]
  },
  {
   "cell_type": "code",
   "execution_count": 219,
   "id": "bc659bdf",
   "metadata": {},
   "outputs": [
    {
     "data": {
      "text/html": [
       "<div>\n",
       "<style scoped>\n",
       "    .dataframe tbody tr th:only-of-type {\n",
       "        vertical-align: middle;\n",
       "    }\n",
       "\n",
       "    .dataframe tbody tr th {\n",
       "        vertical-align: top;\n",
       "    }\n",
       "\n",
       "    .dataframe thead th {\n",
       "        text-align: right;\n",
       "    }\n",
       "</style>\n",
       "<table border=\"1\" class=\"dataframe\">\n",
       "  <thead>\n",
       "    <tr style=\"text-align: right;\">\n",
       "      <th></th>\n",
       "      <th>labels</th>\n",
       "      <th>0</th>\n",
       "      <th>1</th>\n",
       "      <th>2</th>\n",
       "      <th>3</th>\n",
       "      <th>4</th>\n",
       "      <th>5</th>\n",
       "      <th>6</th>\n",
       "      <th>7</th>\n",
       "      <th>8</th>\n",
       "      <th>...</th>\n",
       "      <th>774</th>\n",
       "      <th>775</th>\n",
       "      <th>776</th>\n",
       "      <th>777</th>\n",
       "      <th>778</th>\n",
       "      <th>779</th>\n",
       "      <th>780</th>\n",
       "      <th>781</th>\n",
       "      <th>782</th>\n",
       "      <th>783</th>\n",
       "    </tr>\n",
       "  </thead>\n",
       "  <tbody>\n",
       "    <tr>\n",
       "      <th>0</th>\n",
       "      <td>7</td>\n",
       "      <td>0</td>\n",
       "      <td>0</td>\n",
       "      <td>0</td>\n",
       "      <td>0</td>\n",
       "      <td>0</td>\n",
       "      <td>0</td>\n",
       "      <td>0</td>\n",
       "      <td>0</td>\n",
       "      <td>0</td>\n",
       "      <td>...</td>\n",
       "      <td>0</td>\n",
       "      <td>0</td>\n",
       "      <td>0</td>\n",
       "      <td>0</td>\n",
       "      <td>0</td>\n",
       "      <td>0</td>\n",
       "      <td>0</td>\n",
       "      <td>0</td>\n",
       "      <td>0</td>\n",
       "      <td>0</td>\n",
       "    </tr>\n",
       "    <tr>\n",
       "      <th>1</th>\n",
       "      <td>2</td>\n",
       "      <td>0</td>\n",
       "      <td>0</td>\n",
       "      <td>0</td>\n",
       "      <td>0</td>\n",
       "      <td>0</td>\n",
       "      <td>0</td>\n",
       "      <td>0</td>\n",
       "      <td>0</td>\n",
       "      <td>0</td>\n",
       "      <td>...</td>\n",
       "      <td>0</td>\n",
       "      <td>0</td>\n",
       "      <td>0</td>\n",
       "      <td>0</td>\n",
       "      <td>0</td>\n",
       "      <td>0</td>\n",
       "      <td>0</td>\n",
       "      <td>0</td>\n",
       "      <td>0</td>\n",
       "      <td>0</td>\n",
       "    </tr>\n",
       "    <tr>\n",
       "      <th>2</th>\n",
       "      <td>1</td>\n",
       "      <td>0</td>\n",
       "      <td>0</td>\n",
       "      <td>0</td>\n",
       "      <td>0</td>\n",
       "      <td>0</td>\n",
       "      <td>0</td>\n",
       "      <td>0</td>\n",
       "      <td>0</td>\n",
       "      <td>0</td>\n",
       "      <td>...</td>\n",
       "      <td>0</td>\n",
       "      <td>0</td>\n",
       "      <td>0</td>\n",
       "      <td>0</td>\n",
       "      <td>0</td>\n",
       "      <td>0</td>\n",
       "      <td>0</td>\n",
       "      <td>0</td>\n",
       "      <td>0</td>\n",
       "      <td>0</td>\n",
       "    </tr>\n",
       "    <tr>\n",
       "      <th>3</th>\n",
       "      <td>0</td>\n",
       "      <td>0</td>\n",
       "      <td>0</td>\n",
       "      <td>0</td>\n",
       "      <td>0</td>\n",
       "      <td>0</td>\n",
       "      <td>0</td>\n",
       "      <td>0</td>\n",
       "      <td>0</td>\n",
       "      <td>0</td>\n",
       "      <td>...</td>\n",
       "      <td>0</td>\n",
       "      <td>0</td>\n",
       "      <td>0</td>\n",
       "      <td>0</td>\n",
       "      <td>0</td>\n",
       "      <td>0</td>\n",
       "      <td>0</td>\n",
       "      <td>0</td>\n",
       "      <td>0</td>\n",
       "      <td>0</td>\n",
       "    </tr>\n",
       "    <tr>\n",
       "      <th>4</th>\n",
       "      <td>4</td>\n",
       "      <td>0</td>\n",
       "      <td>0</td>\n",
       "      <td>0</td>\n",
       "      <td>0</td>\n",
       "      <td>0</td>\n",
       "      <td>0</td>\n",
       "      <td>0</td>\n",
       "      <td>0</td>\n",
       "      <td>0</td>\n",
       "      <td>...</td>\n",
       "      <td>0</td>\n",
       "      <td>0</td>\n",
       "      <td>0</td>\n",
       "      <td>0</td>\n",
       "      <td>0</td>\n",
       "      <td>0</td>\n",
       "      <td>0</td>\n",
       "      <td>0</td>\n",
       "      <td>0</td>\n",
       "      <td>0</td>\n",
       "    </tr>\n",
       "  </tbody>\n",
       "</table>\n",
       "<p>5 rows × 785 columns</p>\n",
       "</div>"
      ],
      "text/plain": [
       "   labels  0  1  2  3  4  5  6  7  8  ...  774  775  776  777  778  779  780  \\\n",
       "0       7  0  0  0  0  0  0  0  0  0  ...    0    0    0    0    0    0    0   \n",
       "1       2  0  0  0  0  0  0  0  0  0  ...    0    0    0    0    0    0    0   \n",
       "2       1  0  0  0  0  0  0  0  0  0  ...    0    0    0    0    0    0    0   \n",
       "3       0  0  0  0  0  0  0  0  0  0  ...    0    0    0    0    0    0    0   \n",
       "4       4  0  0  0  0  0  0  0  0  0  ...    0    0    0    0    0    0    0   \n",
       "\n",
       "   781  782  783  \n",
       "0    0    0    0  \n",
       "1    0    0    0  \n",
       "2    0    0    0  \n",
       "3    0    0    0  \n",
       "4    0    0    0  \n",
       "\n",
       "[5 rows x 785 columns]"
      ]
     },
     "execution_count": 219,
     "metadata": {},
     "output_type": "execute_result"
    }
   ],
   "source": [
    "Test=pd.read_csv('MNIST_test.csv')\n",
    "Test=Test.drop(Test.columns[:2],axis=1)\n",
    "Test.head()"
   ]
  },
  {
   "cell_type": "code",
   "execution_count": 220,
   "id": "a763f2b5",
   "metadata": {},
   "outputs": [],
   "source": [
    "#Testing/Validating set\n",
    "\n",
    "#separating labels to 'y' and data to 'X'\n",
    "X=Test.to_numpy() # df -> numpy array\n",
    "y_test=X[:,0] # labels -> y\n",
    "X_test=X[:,1:] # 28*28 matrix -> X\n",
    "\n",
    "# min_max standarization\n",
    "X_test=X/255"
   ]
  },
  {
   "cell_type": "code",
   "execution_count": 221,
   "id": "48c79012",
   "metadata": {},
   "outputs": [],
   "source": [
    "y_hat=GBC.predict(X_test)"
   ]
  },
  {
   "cell_type": "code",
   "execution_count": 222,
   "id": "10162bc6",
   "metadata": {},
   "outputs": [
    {
     "data": {
      "text/plain": [
       "0.9476"
      ]
     },
     "execution_count": 222,
     "metadata": {},
     "output_type": "execute_result"
    }
   ],
   "source": [
    "accuracy(y_hat,y_test)"
   ]
  },
  {
   "cell_type": "code",
   "execution_count": 223,
   "id": "162c955f",
   "metadata": {},
   "outputs": [
    {
     "data": {
      "text/plain": [
       "array([7, 2, 1, ..., 4, 5, 6], dtype=int64)"
      ]
     },
     "execution_count": 223,
     "metadata": {},
     "output_type": "execute_result"
    }
   ],
   "source": [
    "y_test"
   ]
  },
  {
   "cell_type": "code",
   "execution_count": 228,
   "id": "2695ec1f",
   "metadata": {},
   "outputs": [],
   "source": [
    "df=pd.DataFrame({'real':y_test,'predicted':y_hat})"
   ]
  },
  {
   "cell_type": "code",
   "execution_count": 281,
   "id": "71d8a4ce",
   "metadata": {},
   "outputs": [],
   "source": [
    "gb=df.groupby('real')"
   ]
  },
  {
   "cell_type": "code",
   "execution_count": 282,
   "id": "2f8694d4",
   "metadata": {},
   "outputs": [
    {
     "data": {
      "text/html": [
       "<div>\n",
       "<style scoped>\n",
       "    .dataframe tbody tr th:only-of-type {\n",
       "        vertical-align: middle;\n",
       "    }\n",
       "\n",
       "    .dataframe tbody tr th {\n",
       "        vertical-align: top;\n",
       "    }\n",
       "\n",
       "    .dataframe thead th {\n",
       "        text-align: right;\n",
       "    }\n",
       "</style>\n",
       "<table border=\"1\" class=\"dataframe\">\n",
       "  <thead>\n",
       "    <tr style=\"text-align: right;\">\n",
       "      <th></th>\n",
       "      <th>predicted</th>\n",
       "    </tr>\n",
       "    <tr>\n",
       "      <th>real</th>\n",
       "      <th></th>\n",
       "    </tr>\n",
       "  </thead>\n",
       "  <tbody>\n",
       "    <tr>\n",
       "      <th>0</th>\n",
       "      <td>980</td>\n",
       "    </tr>\n",
       "    <tr>\n",
       "      <th>1</th>\n",
       "      <td>1135</td>\n",
       "    </tr>\n",
       "    <tr>\n",
       "      <th>2</th>\n",
       "      <td>1032</td>\n",
       "    </tr>\n",
       "    <tr>\n",
       "      <th>3</th>\n",
       "      <td>1010</td>\n",
       "    </tr>\n",
       "    <tr>\n",
       "      <th>4</th>\n",
       "      <td>982</td>\n",
       "    </tr>\n",
       "    <tr>\n",
       "      <th>5</th>\n",
       "      <td>892</td>\n",
       "    </tr>\n",
       "    <tr>\n",
       "      <th>6</th>\n",
       "      <td>958</td>\n",
       "    </tr>\n",
       "    <tr>\n",
       "      <th>7</th>\n",
       "      <td>1028</td>\n",
       "    </tr>\n",
       "    <tr>\n",
       "      <th>8</th>\n",
       "      <td>974</td>\n",
       "    </tr>\n",
       "    <tr>\n",
       "      <th>9</th>\n",
       "      <td>1009</td>\n",
       "    </tr>\n",
       "  </tbody>\n",
       "</table>\n",
       "</div>"
      ],
      "text/plain": [
       "      predicted\n",
       "real           \n",
       "0           980\n",
       "1          1135\n",
       "2          1032\n",
       "3          1010\n",
       "4           982\n",
       "5           892\n",
       "6           958\n",
       "7          1028\n",
       "8           974\n",
       "9          1009"
      ]
     },
     "execution_count": 282,
     "metadata": {},
     "output_type": "execute_result"
    }
   ],
   "source": [
    "gb.count()"
   ]
  },
  {
   "cell_type": "code",
   "execution_count": 301,
   "id": "277c2e02",
   "metadata": {},
   "outputs": [],
   "source": [
    "conf_mat=np.zeros([10,10])\n",
    "for name,group in gb:\n",
    "    value_counts=(group.value_counts())\n",
    "    for col in range(len(value_counts)):\n",
    "        column=value_counts.index[col][1]\n",
    "        conf_mat[name,column]=value_counts.iloc[col]"
   ]
  },
  {
   "cell_type": "code",
   "execution_count": 302,
   "id": "d090e87b",
   "metadata": {},
   "outputs": [
    {
     "name": "stdout",
     "output_type": "stream",
     "text": [
      "Correlation matrix among digit images calculated means\n"
     ]
    },
    {
     "data": {
      "image/png": "[encoded data removed]",
      "text/plain": [
       "<Figure size 720x360 with 2 Axes>"
      ]
     },
     "metadata": {
      "needs_background": "light"
     },
     "output_type": "display_data"
    }
   ],
   "source": [
    "plt.figure(figsize=(10,5))\n",
    "c= conf_mat\n",
    "print('Correlation matrix among digit images calculated means')\n",
    "sns.heatmap(c,cmap='Blues',annot=True,vmax=100)\n",
    "plt.savefig('confusion_mat_numbers')"
   ]
  },
  {
   "cell_type": "code",
   "execution_count": 299,
   "id": "ef12af13",
   "metadata": {},
   "outputs": [],
   "source": [
    "conf_mat=np.zeros([10,10])\n",
    "for name,group in gb:\n",
    "    value_counts=(group.value_counts())\n",
    "    for col in range(len(value_counts)):\n",
    "        column=value_counts.index[col][1]\n",
    "        conf_mat[name,column]=value_counts.iloc[col]/len(group)\n",
    "        \n",
    "        \n",
    "    "
   ]
  },
  {
   "cell_type": "code",
   "execution_count": 300,
   "id": "0b0eed16",
   "metadata": {},
   "outputs": [
    {
     "name": "stdout",
     "output_type": "stream",
     "text": [
      "Correlation matrix among digit images calculated means\n"
     ]
    },
    {
     "data": {
      "image/png": "[encoded data removed]",
      "text/plain": [
       "<Figure size 720x360 with 2 Axes>"
      ]
     },
     "metadata": {
      "needs_background": "light"
     },
     "output_type": "display_data"
    }
   ],
   "source": [
    "plt.figure(figsize=(10,5))\n",
    "c= conf_mat\n",
    "print('Correlation matrix among digit images calculated means')\n",
    "sns.heatmap(c,cmap='Blues',annot=True,vmax=.03)\n",
    "plt.savefig('conf_mat_percentage.png')"
   ]
  },
  {
   "cell_type": "code",
   "execution_count": null,
   "id": "db65164c",
   "metadata": {},
   "outputs": [],
   "source": []
  }
 ],
 "metadata": {
  "kernelspec": {
   "display_name": "'Datascience'",
   "language": "python",
   "name": "datascience"
  },
  "language_info": {
   "codemirror_mode": {
    "name": "ipython",
    "version": 3
   },
   "file_extension": ".py",
   "mimetype": "text/x-python",
   "name": "python",
   "nbconvert_exporter": "python",
   "pygments_lexer": "ipython3",
   "version": "3.9.12"
  }
 },
 "nbformat": 4,
 "nbformat_minor": 5
}
