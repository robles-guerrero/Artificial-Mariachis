{
 "cells": [
  {
   "cell_type": "code",
   "execution_count": 1,
   "id": "5ff4b517",
   "metadata": {},
   "outputs": [],
   "source": [
    "import pandas as pd \n",
    "import numpy as np\n",
    "import seaborn as sns \n",
    "import plotly.express as px "
   ]
  },
  {
   "cell_type": "code",
   "execution_count": 4,
   "id": "dba0a72f",
   "metadata": {},
   "outputs": [
    {
     "data": {
      "text/plain": [
       "MLS                  0\n",
       "sold_price           0\n",
       "zipcode              0\n",
       "longitude            0\n",
       "latitude             0\n",
       "lot_acres           10\n",
       "taxes                0\n",
       "year_built           0\n",
       "bedrooms             0\n",
       "bathrooms            0\n",
       "sqrt_ft              0\n",
       "garage               0\n",
       "kitchen_features     0\n",
       "fireplaces          25\n",
       "floor_covering       0\n",
       "HOA                  0\n",
       "dtype: int64"
      ]
     },
     "execution_count": 4,
     "metadata": {},
     "output_type": "execute_result"
    }
   ],
   "source": [
    "df=pd.read_csv('Luis Robles - raw_house_data.csv')\n",
    "df.isna().sum()"
   ]
  }
 ],
 "metadata": {
  "kernelspec": {
   "display_name": "'Datascience'",
   "language": "python",
   "name": "datascience"
  },
  "language_info": {
   "codemirror_mode": {
    "name": "ipython",
    "version": 3
   },
   "file_extension": ".py",
   "mimetype": "text/x-python",
   "name": "python",
   "nbconvert_exporter": "python",
   "pygments_lexer": "ipython3",
   "version": "3.9.12"
  }
 },
 "nbformat": 4,
 "nbformat_minor": 5
}
